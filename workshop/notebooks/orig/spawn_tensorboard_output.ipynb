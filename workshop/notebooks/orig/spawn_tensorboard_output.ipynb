{
 "cells": [
  {
   "cell_type": "code",
   "execution_count": 1,
   "metadata": {
    "papermill": {
     "duration": 0.021349,
     "end_time": "2019-02-15T02:34:49.768392",
     "exception": false,
     "start_time": "2019-02-15T02:34:49.747043",
     "status": "completed"
    },
    "tags": []
   },
   "outputs": [],
   "source": [
    "import os\n",
    "import sys"
   ]
  },
  {
   "cell_type": "code",
   "execution_count": 2,
   "metadata": {
    "papermill": {
     "duration": 1.946779,
     "end_time": "2019-02-15T02:34:51.722111",
     "exception": false,
     "start_time": "2019-02-15T02:34:49.775332",
     "status": "completed"
    },
    "tags": []
   },
   "outputs": [
    {
     "name": "stdout",
     "output_type": "stream",
     "text": [
      "\u001b[33mYou are using pip version 18.1, however version 19.0.2 is available.\r\n",
      "You should consider upgrading via the 'pip install --upgrade pip' command.\u001b[0m\r\n"
     ]
    }
   ],
   "source": [
    "!{sys.executable} -m pip install -q tensorboard"
   ]
  },
  {
   "cell_type": "code",
   "execution_count": 3,
   "metadata": {
    "papermill": {
     "duration": 0.019394,
     "end_time": "2019-02-15T02:34:51.751358",
     "exception": false,
     "start_time": "2019-02-15T02:34:51.731964",
     "status": "completed"
    },
    "tags": [
     "parameters"
    ]
   },
   "outputs": [],
   "source": [
    "tb_logdir='/tmp'\n",
    "tb_run_log='/usr/local/google/home/vemmadi/foo.txt'"
   ]
  },
  {
   "cell_type": "code",
   "execution_count": 4,
   "metadata": {
    "papermill": {
     "duration": 0.018584,
     "end_time": "2019-02-15T02:34:51.776715",
     "exception": false,
     "start_time": "2019-02-15T02:34:51.758131",
     "status": "completed"
    },
    "tags": [
     "injected-parameters"
    ]
   },
   "outputs": [],
   "source": [
    "# Parameters\n",
    "tb_run_log = \"/usr/local/google/home/huimiao/tensorboard_model_ids__log.txt\"\n",
    "tb_logdir = \"model_8:/usr/local/google/home/huimiao/tmp/1550198075//data/tfx/pipelines/chicago_taxi_pipeline_local/taxi-local/trainer/output/7/\"\n"
   ]
  },
  {
   "cell_type": "code",
   "execution_count": 5,
   "metadata": {
    "papermill": {
     "duration": 0.017961,
     "end_time": "2019-02-15T02:34:51.801824",
     "exception": false,
     "start_time": "2019-02-15T02:34:51.783863",
     "status": "completed"
    },
    "tags": []
   },
   "outputs": [],
   "source": [
    "import os\n",
    "os.environ['TENSORBOARD_LOGDIR'] = tb_logdir\n",
    "os.environ['TENSORBOARD_RUNLOG'] = tb_run_log"
   ]
  },
  {
   "cell_type": "code",
   "execution_count": 6,
   "metadata": {
    "papermill": {
     "duration": 0.028051,
     "end_time": "2019-02-15T02:34:51.836757",
     "exception": false,
     "start_time": "2019-02-15T02:34:51.808706",
     "status": "completed"
    },
    "tags": []
   },
   "outputs": [
    {
     "name": "stdout",
     "output_type": "stream",
     "text": [
      "Starting job # 0 in a separate thread.\n"
     ]
    }
   ],
   "source": [
    "%%bash --bg -s\n",
    "nohup tensorboard \\\n",
    "  --logdir \"${TENSORBOARD_LOGDIR}\" \\\n",
    "  --port 0 > \"${TENSORBOARD_RUNLOG}\" 2>&1"
   ]
  }
 ],
 "metadata": {
  "celltoolbar": "Tags",
  "kernelspec": {
   "display_name": "Python 2",
   "language": "python",
   "name": "python2"
  },
  "language_info": {
   "codemirror_mode": {
    "name": "ipython",
    "version": 2
   },
   "file_extension": ".py",
   "mimetype": "text/x-python",
   "name": "python",
   "nbconvert_exporter": "python",
   "pygments_lexer": "ipython2",
   "version": "2.7.13"
  },
  "papermill": {
   "duration": 3.497377,
   "end_time": "2019-02-15T02:34:52.568637",
   "environment_variables": {},
   "exception": null,
   "input_path": "spawn_tensorboard.ipynb",
   "output_path": "spawn_tensorboard_output.ipynb",
   "parameters": {
    "tb_logdir": "model_8:/usr/local/google/home/huimiao/tmp/1550198075//data/tfx/pipelines/chicago_taxi_pipeline_local/taxi-local/trainer/output/7/",
    "tb_run_log": "/usr/local/google/home/huimiao/tensorboard_model_ids__log.txt"
   },
   "start_time": "2019-02-15T02:34:49.071260",
   "version": "0.18.0"
  }
 },
 "nbformat": 4,
 "nbformat_minor": 2
}